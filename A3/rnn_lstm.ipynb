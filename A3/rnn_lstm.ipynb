{
 "cells": [
  {
   "cell_type": "markdown",
   "metadata": {},
   "source": [
    "### Try COLAB"
   ]
  },
  {
   "cell_type": "code",
   "execution_count": 162,
   "metadata": {},
   "outputs": [],
   "source": [
    "try:\n",
    "  import google.colab\n",
    "  IN_COLAB = True\n",
    "except:\n",
    "  IN_COLAB = False\n",
    "if IN_COLAB:\n",
    "    !pip3 install torch matplotlib torchmetrics scikit-image segmentation-models-pytorch"
   ]
  },
  {
   "cell_type": "markdown",
   "metadata": {},
   "source": [
    "# Import"
   ]
  },
  {
   "cell_type": "code",
   "execution_count": 174,
   "metadata": {},
   "outputs": [],
   "source": [
    "import torch\n",
    "from torch import nn as nn\n",
    "from torch.nn import functional as F\n",
    "\n",
    "from torch.utils.data import Dataset, DataLoader\n",
    "from torch.nn.utils.rnn import pad_sequence, pack_padded_sequence, pad_packed_sequence\n",
    "\n",
    "import torchmetrics\n",
    "\n",
    "import wandb\n",
    "\n",
    "import seaborn as sns\n",
    "\n",
    "import random"
   ]
  },
  {
   "cell_type": "markdown",
   "metadata": {},
   "source": [
    "### CUDA"
   ]
  },
  {
   "cell_type": "code",
   "execution_count": 175,
   "metadata": {},
   "outputs": [
    {
     "name": "stdout",
     "output_type": "stream",
     "text": [
      "Using the GPU\n"
     ]
    }
   ],
   "source": [
    "# GPU Support?\n",
    "if torch.cuda.is_available():\n",
    "    print(\"Using the GPU\")\n",
    "    device = torch.device('cuda')\n",
    "else:\n",
    "    print(\"Using the CPU\")\n",
    "    device = torch.device('cpu')"
   ]
  },
  {
   "cell_type": "markdown",
   "metadata": {},
   "source": [
    "# Generate Dataset"
   ]
  },
  {
   "cell_type": "code",
   "execution_count": 176,
   "metadata": {},
   "outputs": [],
   "source": [
    "class FormalLanguageDataset(Dataset):\n",
    "    def __init__(self, N=100):\n",
    "        self.N = N\n",
    "        self.dataset = self._generate_dataset()\n",
    "        self.char_to_idx = {char: idx for idx, char in enumerate('abc')}\n",
    "        self.input_size = len(self.char_to_idx)\n",
    "        self.x_tensors, self.y_tensors = self._convert_to_tensors()\n",
    "        \n",
    "    def _generate_dataset(self):\n",
    "        dataset = []\n",
    "        for n in range(self.N):\n",
    "            if n % 4 == 0:  # 25% of sequences are guaranteed to be actual members of the language.\n",
    "                randint = random.randint(1, 6)\n",
    "                sequence = 'a' * randint + 'b' * randint + 'c' * randint\n",
    "                label = 1\n",
    "            else:\n",
    "                length = random.randint(3, 20)  # Random sequence length between 3 and 20\n",
    "                counts = [0, 0, 0]\n",
    "                # Distribute the length among a, b, and c\n",
    "                for i in range(length):\n",
    "                    counts[random.randint(0, 2)] += 1\n",
    "                # Ensure alphabetical order and create the sequence (unlikely to become a member of the language)\n",
    "                sequence = 'a' * counts[0] + 'b' * counts[1] + 'c' * counts[2]\n",
    "                label = 0\n",
    "            dataset.append((sequence, label))\n",
    "        return dataset\n",
    "    \n",
    "    def _convert_to_tensors(self):\n",
    "        x_tensors = [torch.tensor([self.char_to_idx[char] for char in seq], dtype=torch.long) for seq, _ in self.dataset]\n",
    "        y_tensors = torch.tensor([label for _, label in self.dataset], dtype=torch.float)\n",
    "        return x_tensors, y_tensors\n",
    "    \n",
    "    def __len__(self):\n",
    "        return len(self.dataset)\n",
    "    \n",
    "    def __getitem__(self, idx):\n",
    "        return self.x_tensors[idx], self.y_tensors[idx]\n"
   ]
  },
  {
   "cell_type": "code",
   "execution_count": 185,
   "metadata": {},
   "outputs": [],
   "source": [
    "\n",
    "def collate_fn(batch):\n",
    "    sequences, labels = zip(*batch)\n",
    "    sequences_padded = pad_sequence(sequences, batch_first=True, padding_value=0)\n",
    "    lengths = torch.tensor([len(seq) for seq in sequences])\n",
    "    labels = torch.tensor(labels, dtype=torch.float)\n",
    "    return sequences_padded, lengths, labels\n",
    "\n",
    "# Create the dataset and dataloader\n",
    "N = 1000  # Number of sequences\n",
    "\n",
    "dataset = FormalLanguageDataset(N)\n",
    "train_size = int(0.8 * len(dataset))\n",
    "test_size = len(dataset) - train_size\n",
    "\n",
    "train_dataset, test_dataset = torch.utils.data.random_split(dataset, [train_size, test_size])\n",
    "\n",
    "train_loader = DataLoader(train_dataset, batch_size=train_size, shuffle=True, collate_fn=collate_fn) # Load full batch\n",
    "test_loader = DataLoader(test_dataset, batch_size=test_size, shuffle=False, collate_fn=collate_fn) # Load full batch"
   ]
  },
  {
   "cell_type": "markdown",
   "metadata": {},
   "source": [
    "# RNN"
   ]
  },
  {
   "cell_type": "code",
   "execution_count": 186,
   "metadata": {},
   "outputs": [],
   "source": [
    "\n",
    "# RNN Model\n",
    "class RNN(nn.Module):\n",
    "    def __init__(self, input_size, hidden_size, output_size, num_layers):\n",
    "        super(RNN, self).__init__()\n",
    "        self.hidden_size = hidden_size\n",
    "        self.embedding = nn.Embedding(input_size, input_size)\n",
    "        self.rnn = nn.RNN(input_size, hidden_size, batch_first=True, num_layers=num_layers)\n",
    "        self.fc = nn.Linear(hidden_size, output_size)\n",
    "        # No activation function for the output layer, as we will use nn.BCEWithLogitsLoss which combines a sigmoid layer and the BCELoss.\n",
    "\n",
    "    def forward(self, x, lengths):\n",
    "        x = self.embedding(x)\n",
    "        packed_input = pack_padded_sequence(x, lengths.cpu(), batch_first=True, enforce_sorted=False)\n",
    "        packed_output, hidden = self.rnn(packed_input)\n",
    "        output, _ = pad_packed_sequence(packed_output, batch_first=True)\n",
    "        output = hidden[-1]  # Use the last hidden state\n",
    "        output = self.fc(output)\n",
    "\n",
    "        return output\n"
   ]
  },
  {
   "cell_type": "markdown",
   "metadata": {},
   "source": [
    "## Training Function RNN"
   ]
  },
  {
   "cell_type": "code",
   "execution_count": 187,
   "metadata": {},
   "outputs": [],
   "source": [
    "\n",
    "# Training function\n",
    "def train(model, train_loader, optimizer, criterion, device=device, num_epochs=20):\n",
    "    with wandb.init(project=\"A2_RNN\"):\n",
    "        model.to(device)\n",
    "        wandb.watch(model, log=\"all\")\n",
    "        for epoch in range(num_epochs):\n",
    "            total_loss = 0\n",
    "            for sequences, lengths, labels in train_loader:\n",
    "                sequences, lengths, labels = sequences.to(device), lengths.to(device), labels.to(device)\n",
    "                optimizer.zero_grad()\n",
    "\n",
    "                # Forward pass\n",
    "                output = model(sequences, lengths)\n",
    "                loss = criterion(output.squeeze(), labels)\n",
    "                loss.backward()\n",
    "                optimizer.step()\n",
    "                total_loss += loss.item()\n",
    "\n",
    "            average_loss = total_loss / len(train_loader)\n",
    "            print(f\"Epoch [{epoch+1}/{num_epochs}], Loss: {average_loss:.4f}\")\n",
    "            wandb.log({\"average_loss\": average_loss, \"epoch\": epoch, \"total_loss\": total_loss})\n",
    "    wandb.finish()"
   ]
  },
  {
   "cell_type": "code",
   "execution_count": 188,
   "metadata": {},
   "outputs": [
    {
     "data": {
      "application/vnd.jupyter.widget-view+json": {
       "model_id": "db34d645ee6b4c5d844db559606eea87",
       "version_major": 2,
       "version_minor": 0
      },
      "text/plain": [
       "VBox(children=(Label(value='Waiting for wandb.init()...\\r'), FloatProgress(value=0.011111111111111112, max=1.0…"
      ]
     },
     "metadata": {},
     "output_type": "display_data"
    },
    {
     "data": {
      "text/html": [
       "wandb version 0.17.0 is available!  To upgrade, please run:\n",
       " $ pip install wandb --upgrade"
      ],
      "text/plain": [
       "<IPython.core.display.HTML object>"
      ]
     },
     "metadata": {},
     "output_type": "display_data"
    },
    {
     "data": {
      "text/html": [
       "Tracking run with wandb version 0.16.6"
      ],
      "text/plain": [
       "<IPython.core.display.HTML object>"
      ]
     },
     "metadata": {},
     "output_type": "display_data"
    },
    {
     "data": {
      "text/html": [
       "Run data is saved locally in <code>c:\\Users\\hulig\\OneDrive - University of Copenhagen\\ML\\ADL\\ADL_GA\\A3\\wandb\\run-20240518_193605-6r48sn9w</code>"
      ],
      "text/plain": [
       "<IPython.core.display.HTML object>"
      ]
     },
     "metadata": {},
     "output_type": "display_data"
    },
    {
     "data": {
      "text/html": [
       "Syncing run <strong><a href='https://wandb.ai/xjulianbarragan/A2_RNN/runs/6r48sn9w' target=\"_blank\">efficient-glade-2</a></strong> to <a href='https://wandb.ai/xjulianbarragan/A2_RNN' target=\"_blank\">Weights & Biases</a> (<a href='https://wandb.me/run' target=\"_blank\">docs</a>)<br/>"
      ],
      "text/plain": [
       "<IPython.core.display.HTML object>"
      ]
     },
     "metadata": {},
     "output_type": "display_data"
    },
    {
     "data": {
      "text/html": [
       " View project at <a href='https://wandb.ai/xjulianbarragan/A2_RNN' target=\"_blank\">https://wandb.ai/xjulianbarragan/A2_RNN</a>"
      ],
      "text/plain": [
       "<IPython.core.display.HTML object>"
      ]
     },
     "metadata": {},
     "output_type": "display_data"
    },
    {
     "data": {
      "text/html": [
       " View run at <a href='https://wandb.ai/xjulianbarragan/A2_RNN/runs/6r48sn9w' target=\"_blank\">https://wandb.ai/xjulianbarragan/A2_RNN/runs/6r48sn9w</a>"
      ],
      "text/plain": [
       "<IPython.core.display.HTML object>"
      ]
     },
     "metadata": {},
     "output_type": "display_data"
    },
    {
     "name": "stdout",
     "output_type": "stream",
     "text": [
      "Epoch [1/10], Loss: 0.7105\n",
      "Epoch [2/10], Loss: 0.6662\n",
      "Epoch [3/10], Loss: 0.6328\n",
      "Epoch [4/10], Loss: 0.6078\n",
      "Epoch [5/10], Loss: 0.5896\n",
      "Epoch [6/10], Loss: 0.5772\n",
      "Epoch [7/10], Loss: 0.5697\n",
      "Epoch [8/10], Loss: 0.5662\n",
      "Epoch [9/10], Loss: 0.5654\n",
      "Epoch [10/10], Loss: 0.5663\n"
     ]
    },
    {
     "data": {
      "application/vnd.jupyter.widget-view+json": {
       "model_id": "a2b632c8f36b45eb8533dedd658c163b",
       "version_major": 2,
       "version_minor": 0
      },
      "text/plain": [
       "VBox(children=(Label(value='0.001 MB of 0.001 MB uploaded\\r'), FloatProgress(value=1.0, max=1.0)))"
      ]
     },
     "metadata": {},
     "output_type": "display_data"
    },
    {
     "data": {
      "text/html": [
       "<style>\n",
       "    table.wandb td:nth-child(1) { padding: 0 10px; text-align: left ; width: auto;} td:nth-child(2) {text-align: left ; width: 100%}\n",
       "    .wandb-row { display: flex; flex-direction: row; flex-wrap: wrap; justify-content: flex-start; width: 100% }\n",
       "    .wandb-col { display: flex; flex-direction: column; flex-basis: 100%; flex: 1; padding: 10px; }\n",
       "    </style>\n",
       "<div class=\"wandb-row\"><div class=\"wandb-col\"><h3>Run history:</h3><br/><table class=\"wandb\"><tr><td>average_loss</td><td>█▆▄▃▂▂▁▁▁▁</td></tr><tr><td>epoch</td><td>▁▂▃▃▄▅▆▆▇█</td></tr><tr><td>total_loss</td><td>█▆▄▃▂▂▁▁▁▁</td></tr></table><br/></div><div class=\"wandb-col\"><h3>Run summary:</h3><br/><table class=\"wandb\"><tr><td>average_loss</td><td>0.56628</td></tr><tr><td>epoch</td><td>9</td></tr><tr><td>total_loss</td><td>0.56628</td></tr></table><br/></div></div>"
      ],
      "text/plain": [
       "<IPython.core.display.HTML object>"
      ]
     },
     "metadata": {},
     "output_type": "display_data"
    },
    {
     "data": {
      "text/html": [
       " View run <strong style=\"color:#cdcd00\">efficient-glade-2</strong> at: <a href='https://wandb.ai/xjulianbarragan/A2_RNN/runs/6r48sn9w' target=\"_blank\">https://wandb.ai/xjulianbarragan/A2_RNN/runs/6r48sn9w</a><br/> View project at: <a href='https://wandb.ai/xjulianbarragan/A2_RNN' target=\"_blank\">https://wandb.ai/xjulianbarragan/A2_RNN</a><br/>Synced 5 W&B file(s), 0 media file(s), 0 artifact file(s) and 0 other file(s)"
      ],
      "text/plain": [
       "<IPython.core.display.HTML object>"
      ]
     },
     "metadata": {},
     "output_type": "display_data"
    },
    {
     "data": {
      "text/html": [
       "Find logs at: <code>.\\wandb\\run-20240518_193605-6r48sn9w\\logs</code>"
      ],
      "text/plain": [
       "<IPython.core.display.HTML object>"
      ]
     },
     "metadata": {},
     "output_type": "display_data"
    }
   ],
   "source": [
    "# Hyperparameters\n",
    "input_size = 3  # Size of vocabulary ( 'a', 'b', 'c' )\n",
    "hidden_size = 10\n",
    "output_size = 1\n",
    "learning_rate = 0.01\n",
    "\n",
    "model = RNN(input_size, hidden_size, output_size, num_layers=1).to(device)\n",
    "optimizer = torch.optim.Adam(model.parameters(), lr=learning_rate)\n",
    "criterion = nn.BCEWithLogitsLoss()\n",
    "\n",
    "train(model, train_loader, optimizer, criterion, device=device, num_epochs=10)"
   ]
  },
  {
   "cell_type": "markdown",
   "metadata": {},
   "source": [
    "# Evaluate Models"
   ]
  },
  {
   "cell_type": "markdown",
   "metadata": {},
   "source": [
    "### Evaluate RNN"
   ]
  },
  {
   "cell_type": "code",
   "execution_count": 189,
   "metadata": {},
   "outputs": [],
   "source": [
    "# Evaluate model\n",
    "def evaluate_model(model, test_loader, device=device):\n",
    "    model.eval()\n",
    "    correct = 0\n",
    "    total = 0\n",
    "    with torch.no_grad():\n",
    "        for sequences, lengths, labels in test_loader:\n",
    "            sequences, lengths, labels = sequences.to(device), lengths.to(device), labels.to(device)\n",
    "            output = model(sequences, lengths)\n",
    "            predictions = (output.squeeze() > 0).float()\n",
    "            correct += (predictions == labels).sum().item()\n",
    "            total += labels.size(0)\n",
    "    accuracy = correct / total\n",
    "    print(f\"Accuracy: {accuracy:.4f}\")"
   ]
  },
  {
   "cell_type": "code",
   "execution_count": 190,
   "metadata": {},
   "outputs": [
    {
     "name": "stdout",
     "output_type": "stream",
     "text": [
      "Accuracy: 0.7600\n"
     ]
    }
   ],
   "source": [
    "evaluate_model(model, test_loader, device=device)"
   ]
  }
 ],
 "metadata": {
  "kernelspec": {
   "display_name": "torch",
   "language": "python",
   "name": "python3"
  },
  "language_info": {
   "codemirror_mode": {
    "name": "ipython",
    "version": 3
   },
   "file_extension": ".py",
   "mimetype": "text/x-python",
   "name": "python",
   "nbconvert_exporter": "python",
   "pygments_lexer": "ipython3",
   "version": "3.11.9"
  }
 },
 "nbformat": 4,
 "nbformat_minor": 2
}
