{
 "cells": [
  {
   "cell_type": "markdown",
   "metadata": {},
   "source": [
    "### Try COLAB"
   ]
  },
  {
   "cell_type": "code",
   "execution_count": 1,
   "metadata": {},
   "outputs": [],
   "source": [
    "try:\n",
    "  import google.colab\n",
    "  IN_COLAB = True\n",
    "except:\n",
    "  IN_COLAB = False\n",
    "if IN_COLAB:\n",
    "    !pip3 install torch matplotlib torchmetrics scikit-image segmentation-models-pytorch"
   ]
  },
  {
   "cell_type": "markdown",
   "metadata": {},
   "source": [
    "# Import"
   ]
  },
  {
   "cell_type": "code",
   "execution_count": 2,
   "metadata": {},
   "outputs": [],
   "source": [
    "import torch\n",
    "from torch import nn as nn\n",
    "import torch.optim as optim\n",
    "from torch.utils.data import DataLoader, TensorDataset, random_split\n",
    "\n",
    "from torch.nn.utils.rnn import pad_sequence, pack_padded_sequence, pad_packed_sequence # for padding data\n",
    "\n",
    "import pandas as pd # for making csv file\n",
    "\n",
    "from sklearn.metrics import accuracy_score, f1_score\n",
    "\n",
    "import wandb\n",
    "\n",
    "import seaborn as sns\n",
    "import matplotlib.pyplot as plt\n",
    "\n",
    "import random\n"
   ]
  },
  {
   "cell_type": "markdown",
   "metadata": {},
   "source": [
    "### CUDA"
   ]
  },
  {
   "cell_type": "code",
   "execution_count": 3,
   "metadata": {},
   "outputs": [
    {
     "name": "stdout",
     "output_type": "stream",
     "text": [
      "Using the GPU\n"
     ]
    }
   ],
   "source": [
    "# GPU Support?\n",
    "if torch.cuda.is_available():\n",
    "    print(\"Using the GPU\")\n",
    "    device = torch.device('cuda')\n",
    "else:\n",
    "    print(\"Using the CPU\")\n",
    "    device = torch.device('cpu')"
   ]
  },
  {
   "cell_type": "markdown",
   "metadata": {},
   "source": [
    "# Generate Dataset"
   ]
  },
  {
   "cell_type": "code",
   "execution_count": 4,
   "metadata": {},
   "outputs": [],
   "source": [
    "# Generate a dataset of sequences containing characters 'a', 'b', and 'c' in order\n",
    "def gen_data(N=3000, min_len=3, max_len=20) -> list:\n",
    "    \"\"\"Generates a dataset of sequences containing characters 'a', 'b', and 'c' in order.\n",
    "    Parameters: N: int, number of sequences to generate\n",
    "                min_len: int, minimum length of a sequence\n",
    "                max_len: int, maximum length of a sequence\n",
    "    Returns: list of strings, each string is a sequence of characters 'a', 'b', and 'c' in order\"\"\"\n",
    "    dataset = []\n",
    "    max_member = max_len // 3 # three times this number is less than max_len\n",
    "    min_member = min_len // 3 # three times this number is less than min_len\n",
    "    if min_len < 3:\n",
    "        min_len = 3\n",
    "        print(\"Minimum length must be at least 3. Setting min_len to 3.\")\n",
    "    if max_len > 1000:\n",
    "        max_len = 1000\n",
    "        print(\"Maximum length must be at most 1000. Setting max_len to 1000.\")\n",
    "\n",
    "    for n in range(N):\n",
    "        if n % 4 == 0: # 25% of the time add actual member of formal language family\n",
    "            length = random.randint(min_member, max_member)\n",
    "            sequence = 'a' * length + 'b' * length + 'c' * length\n",
    "            dataset.append(sequence)\n",
    "        else:\n",
    "            length = random.randint(min_len-3, max_len-3)  # Random sequence length between 3 and (20-3 = 17). 3 is the smallest possible length for a sequence to be in the language\n",
    "            counts = [1, 1, 1] # Initialize counts for 'a', 'b', and 'c'. Will have at least one of each letter.\n",
    "\n",
    "            # Distribute the length among a, b, and c\n",
    "            for i in range(length):\n",
    "                counts[random.randint(0, 2)] += 1\n",
    "\n",
    "            # Ensure alphabetical order and create the sequence\n",
    "            sequence = 'a' * counts[0] + 'b' * counts[1] + 'c' * counts[2]\n",
    "            dataset.append(sequence)\n",
    "    return dataset"
   ]
  },
  {
   "cell_type": "markdown",
   "metadata": {},
   "source": [
    "### Functions for labels and encoding"
   ]
  },
  {
   "cell_type": "code",
   "execution_count": 5,
   "metadata": {},
   "outputs": [],
   "source": [
    "# Get labels\n",
    "def get_labels(data, vebrose=False):\n",
    "    y = torch.zeros(len(data))\n",
    "    for i, sequence in enumerate(data):\n",
    "        if sequence == 'a'*(len(sequence)//3) + 'b'*(len(sequence)//3) + 'c'*(len(sequence)//3):\n",
    "            y[i] = 1\n",
    "    if vebrose:\n",
    "        print(f\"Number of sequences in the language: {y.sum()}\")\n",
    "        print(f\"Number of sequences not in the language: {len(y) - y.sum()}\")\n",
    "    return y"
   ]
  },
  {
   "cell_type": "code",
   "execution_count": 6,
   "metadata": {},
   "outputs": [],
   "source": [
    "# Create a one-hot encoding of the sequences and a labels tensor\n",
    "def one_hot_encode(sequence):\n",
    "    encoded = torch.zeros(len(sequence), 3)\n",
    "    for i, char in enumerate(sequence):\n",
    "        encoded[i, 'abc'.index(char)] = 1\n",
    "    return encoded"
   ]
  },
  {
   "cell_type": "markdown",
   "metadata": {},
   "source": [
    "## One-Hot Encoding"
   ]
  },
  {
   "cell_type": "code",
   "execution_count": 7,
   "metadata": {},
   "outputs": [],
   "source": [
    "def get_dataset(N, min_len=3, max_len=20, split=False):\n",
    "    \"\"\"\n",
    "    Generates a dataset of sequences containing characters 'a', 'b', and 'c' in order.\n",
    "    One-hot encodes, pads, and creates labels for the dataset.\n",
    "    Parameters: N: int, number of sequences to generate\n",
    "                min_len: int, minimum length of a sequence\n",
    "                max_len: int, maximum length of a sequence\n",
    "                split: bool, whether to split the dataset into train and test sets\n",
    "    Returrns: TensorDataset, list of sequencese if split=False\n",
    "                Tuple(TensorDataset, TensorDataset), list of sequences if split=True\n",
    "    \"\"\"\n",
    "    sequences = gen_data(N, min_len, max_len)\n",
    "    length_tensor = torch.tensor([len(s) for s in sequences])\n",
    "    encoded_sequences = [one_hot_encode(sequence) for sequence in sequences]\n",
    "    padded_sequences = pad_sequence(encoded_sequences, batch_first=True)\n",
    "    y = get_labels(sequences, vebrose=True) # change verbose to False to suppress output\n",
    "    if split: # split into train and test sets\n",
    "        train_size = int(0.8 * N) # 80/20 train/test split\n",
    "        train_data = padded_sequences[:train_size]\n",
    "        test_data = padded_sequences[train_size:]\n",
    "        train_lengths = length_tensor[:train_size]\n",
    "        test_lengths = length_tensor[train_size:]\n",
    "        train_y = y[:train_size]\n",
    "        test_y = y[train_size:]\n",
    "        train_dataset = TensorDataset(train_data, train_y, train_lengths)\n",
    "        test_dataset = TensorDataset(test_data, test_y, test_lengths)\n",
    "        return train_dataset, test_dataset, sequences\n",
    "    dataset = TensorDataset(padded_sequences, y, length_tensor)\n",
    "    return dataset, sequences"
   ]
  },
  {
   "cell_type": "code",
   "execution_count": 8,
   "metadata": {},
   "outputs": [
    {
     "name": "stdout",
     "output_type": "stream",
     "text": [
      "Number of sequences in the language: 932.0\n",
      "Number of sequences not in the language: 2068.0\n"
     ]
    }
   ],
   "source": [
    "train_dataset, test_dataset, sequences = get_dataset(3000, 3, 20, split=True)"
   ]
  },
  {
   "cell_type": "code",
   "execution_count": 9,
   "metadata": {},
   "outputs": [],
   "source": [
    "# Make data into loader\n",
    "train_loader = DataLoader(train_dataset, batch_size=128, shuffle=True)\n",
    "test_loader = DataLoader(test_dataset, batch_size=len(test_dataset), shuffle=False)"
   ]
  },
  {
   "cell_type": "markdown",
   "metadata": {},
   "source": [
    "# RNN Model"
   ]
  },
  {
   "cell_type": "code",
   "execution_count": 10,
   "metadata": {},
   "outputs": [],
   "source": [
    "class RNN(nn.Module):\n",
    "    def __init__(self, input_size, hidden_size, num_layers, num_classes):\n",
    "        super(RNN, self).__init__()\n",
    "        self.num_layers = num_layers\n",
    "        self.hidden_size = hidden_size\n",
    "        self.rnn = nn.RNN(input_size, hidden_size, num_layers, batch_first=True)\n",
    "        # x -> (batch_length, seq_length, input_size/vocab_size)\n",
    "        self.fc = nn.Linear(hidden_size, num_classes)\n",
    "\n",
    "    def forward(self, input, lengths):\n",
    "        # Gets a padded sequence as input\n",
    "        packed_input = pack_padded_sequence(input, lengths.cpu(), batch_first=True, enforce_sorted=False)\n",
    "        packed_out, _ = self.rnn(packed_input)\n",
    "        out, _ = pad_packed_sequence(packed_out, batch_first=True)\n",
    "        out = out[range(len(out)), lengths-1, :]\n",
    "        # The shape changes from [batch_size, max_seq_length, hidden_size] to [batch_size, hidden_size]\n",
    "        # by selecting the output if last valid timestep for each sequence in the batch\n",
    "        # which reduces the second dimension (sequence length) by selecting specific indices for each sequence in the batch.\n",
    "        out = self.fc(out)\n",
    "        return out "
   ]
  },
  {
   "cell_type": "markdown",
   "metadata": {},
   "source": [
    "# LSTM Model"
   ]
  },
  {
   "cell_type": "code",
   "execution_count": 11,
   "metadata": {},
   "outputs": [],
   "source": [
    "# LSTM Model Definition\n",
    "class LSTM(nn.Module):\n",
    "    def __init__(self, input_size, hidden_size, num_layers, num_classes):\n",
    "        super(LSTM, self).__init__()\n",
    "        self.num_layers = num_layers\n",
    "        self.hidden_size = hidden_size\n",
    "        self.lstm = nn.LSTM(input_size, hidden_size, num_layers, batch_first=True)\n",
    "        self.fc = nn.Linear(hidden_size, num_classes)\n",
    "\n",
    "    def forward(self, input, lengths):\n",
    "        packed_input = pack_padded_sequence(input, lengths.cpu(), batch_first=True, enforce_sorted=False)\n",
    "        packed_out, (hn, cn) = self.lstm(packed_input)\n",
    "        out, _ = pad_packed_sequence(packed_out, batch_first=True)\n",
    "        out = out[range(len(out)), lengths-1, :]\n",
    "        out = self.fc(out)\n",
    "        return out"
   ]
  },
  {
   "cell_type": "markdown",
   "metadata": {},
   "source": [
    "# Artifact"
   ]
  },
  {
   "cell_type": "code",
   "execution_count": 12,
   "metadata": {},
   "outputs": [],
   "source": [
    "# # Make dataset with labels to csv\n",
    "# df = pd.DataFrame(sequences)\n",
    "# df['label'] = get_labels(sequences)\n",
    "# df.to_csv('formal_language.csv', index=False)\n",
    "\n",
    "# # Instantiate a WandB run\n",
    "# wandb.login()\n",
    "# run = wandb.init(project=\"formal_language_rnn_lstm\")\n",
    "\n",
    "# # Create an artifact for data\n",
    "# artifact = wandb.Artifact(\"formal_language_data\", type=\"dataset\") \n",
    "# artifact.add_file(\"formal_language.csv\") \n",
    "# run.log_artifact(artifact)"
   ]
  },
  {
   "cell_type": "code",
   "execution_count": 13,
   "metadata": {},
   "outputs": [],
   "source": [
    "def report_evaluation(model, loader):\n",
    "    model.eval()\n",
    "    y_true = []\n",
    "    y_pred = []\n",
    "    with torch.no_grad():\n",
    "        for data, label, lengths in loader:\n",
    "            data, label, lengths = data.to(device), label.to(device), lengths.to('cpu')\n",
    "\n",
    "            # Get the model's predictions\n",
    "            output = model(data, lengths)\n",
    "            pred = torch.round(torch.sigmoid(output)) # Sigmoid to get probabilities, round to get binary predictions\n",
    "\n",
    "            y_true.extend(label.tolist())\n",
    "            y_pred.extend(pred.tolist())\n",
    "\n",
    "    # Check if all predictions are 0 or 1\n",
    "    y_pred_sum = [sum(pred) for pred in y_pred]\n",
    "    if y_pred_sum == 0:\n",
    "        print(\"All predictions are 0\")\n",
    "    if y_pred_sum == len(y_pred):\n",
    "        print(\"All predictions are 1\")\n",
    "\n",
    "    accuracy = accuracy_score(y_true, y_pred)\n",
    "    f1 = f1_score(y_true, y_pred, zero_division=1)\n",
    "    return accuracy, f1"
   ]
  },
  {
   "cell_type": "markdown",
   "metadata": {},
   "source": [
    "# Sweeping"
   ]
  },
  {
   "cell_type": "code",
   "execution_count": 14,
   "metadata": {},
   "outputs": [],
   "source": [
    "# Sweep config\n",
    "sweep_config = {\n",
    "    \"method\": \"random\",\n",
    "    \"metric\": {\"name\": \"loss\", \"goal\": \"minimize\"},\n",
    "    \"parameters\": {\n",
    "        \"model\": { \"values\": [\"RNN\", \"LSTM\"] },\n",
    "        \"epochs\": {\"values\": [10, 20, 30] },    \n",
    "        \"optimizer\": { \"values\": [\"SGD\", \"Adam\"] },\n",
    "        \"hidden_size\": {\n",
    "            \"values\": [10, 20, 50]\n",
    "        },\n",
    "        \"num_layers\": {\n",
    "            \"values\": [1, 2]\n",
    "        },\n",
    "        \"learning_rate\": {\n",
    "            \"values\": [0.001, 0.005, 0.01]\n",
    "        }\n",
    "    }\n",
    "}"
   ]
  },
  {
   "cell_type": "code",
   "execution_count": 15,
   "metadata": {},
   "outputs": [],
   "source": [
    "def train(config=None):\n",
    "    with wandb.init(project=\"formal_language_rnn_lstm\", config=config):\n",
    "        config = wandb.config\n",
    "\n",
    "        # Get hyperparameters\n",
    "        hidden_size = config.hidden_size\n",
    "        num_layers = config.num_layers\n",
    "        learning_rate = config.learning_rate\n",
    "        num_epochs = config.epochs\n",
    "\n",
    "        # Input size and number of classes\n",
    "        num_classes = 1 # binary classification\n",
    "        input_size = 3 # 'a' 'b' 'c'\n",
    "\n",
    "        # Set criterion\n",
    "        criterion = nn.BCEWithLogitsLoss()\n",
    "\n",
    "        # Get model\n",
    "        if config.model == \"RNN\":\n",
    "            model = RNN(input_size, hidden_size, num_layers, num_classes).to(device)\n",
    "        else:\n",
    "            model = LSTM(input_size, hidden_size, num_layers, num_classes).to(device)\n",
    "        \n",
    "        # Get optimizer\n",
    "        if config.optimizer == \"SGD\":\n",
    "            optimizer = optim.SGD(model.parameters(), lr=learning_rate)\n",
    "        else:\n",
    "            optimizer = optim.Adam(model.parameters(), lr=learning_rate)\n",
    "\n",
    "        wandb.watch(model, criterion, log=\"all\")\n",
    "\n",
    "        # Make validation set from global var train_dataset\n",
    "        train_size = int(0.9*len(train_dataset))\n",
    "        val_size = len(train_dataset) - train_size\n",
    "        train_subset, val_subset = random_split(train_dataset, [train_size, val_size])\n",
    "        # Make loaders\n",
    "        val_train_loader = DataLoader(train_subset, batch_size=128, shuffle=True)\n",
    "        val_loader = DataLoader(val_subset, batch_size=len(val_subset), shuffle=False)\n",
    "\n",
    "\n",
    "        # Training loop\n",
    "        for epoch in range(num_epochs):\n",
    "            for data, labels, lengths in val_train_loader:\n",
    "                data, labels, lengths = data.to(device), labels.to(device), lengths.to('cpu')\n",
    "\n",
    "                # Forward pass\n",
    "                outputs = model(data, lengths)\n",
    "                loss = criterion(outputs.squeeze(), labels.float())\n",
    "\n",
    "                # Backward and optimize\n",
    "                optimizer.zero_grad()\n",
    "                loss.backward()\n",
    "                optimizer.step()\n",
    "                \n",
    "            wandb.log({\"epoch\": epoch+1, \"loss\": loss.item()})\n",
    "\n",
    "            if (epoch+1) % 10 == 0:\n",
    "                print(f'Epoch [{epoch+1}/{num_epochs}], Loss: {loss.item():.4f}')\n",
    "        \n",
    "        _,f1 = report_evaluation(model, val_loader)\n",
    "        wandb.log({\"f1_eval\": f1})\n",
    "        \n",
    "        print(\"Finished training\")"
   ]
  },
  {
   "cell_type": "code",
   "execution_count": 16,
   "metadata": {},
   "outputs": [],
   "source": [
    "# Initialize sweep_id\n",
    "# sweep_id = wandb.sweep(sweep_config, project=\"formal_language_rnn_lstm\")"
   ]
  },
  {
   "cell_type": "code",
   "execution_count": 17,
   "metadata": {},
   "outputs": [],
   "source": [
    "# Run the sweep\n",
    "# wandb.agent(sweep_id, function=train, count=15)"
   ]
  },
  {
   "cell_type": "markdown",
   "metadata": {},
   "source": [
    "# Evaluation"
   ]
  },
  {
   "cell_type": "markdown",
   "metadata": {},
   "source": [
    "## Train with selected params"
   ]
  },
  {
   "cell_type": "code",
   "execution_count": 18,
   "metadata": {},
   "outputs": [
    {
     "name": "stdout",
     "output_type": "stream",
     "text": [
      "Epoch [1/30], Loss: 0.4844\n",
      "Epoch [2/30], Loss: 0.6357\n",
      "Epoch [3/30], Loss: 0.3865\n",
      "Epoch [4/30], Loss: 0.2547\n",
      "Epoch [5/30], Loss: 0.1916\n",
      "Epoch [6/30], Loss: 0.2049\n",
      "Epoch [7/30], Loss: 0.1517\n",
      "Epoch [8/30], Loss: 0.1682\n",
      "Epoch [9/30], Loss: 0.2202\n",
      "Epoch [10/30], Loss: 0.1259\n",
      "Epoch [11/30], Loss: 0.1319\n",
      "Epoch [12/30], Loss: 0.1504\n",
      "Epoch [13/30], Loss: 0.0930\n",
      "Epoch [14/30], Loss: 0.1486\n",
      "Epoch [15/30], Loss: 0.1435\n",
      "Epoch [16/30], Loss: 0.1942\n",
      "Epoch [17/30], Loss: 0.1327\n",
      "Epoch [18/30], Loss: 0.1190\n",
      "Epoch [19/30], Loss: 0.0828\n",
      "Epoch [20/30], Loss: 0.0833\n",
      "Epoch [21/30], Loss: 0.1100\n",
      "Epoch [22/30], Loss: 0.0850\n",
      "Epoch [23/30], Loss: 0.0964\n",
      "Epoch [24/30], Loss: 0.0730\n",
      "Epoch [25/30], Loss: 0.1380\n",
      "Epoch [26/30], Loss: 0.1590\n",
      "Epoch [27/30], Loss: 0.0157\n",
      "Epoch [28/30], Loss: 0.1104\n",
      "Epoch [29/30], Loss: 0.0686\n",
      "Epoch [30/30], Loss: 0.0152\n",
      "Finished Training\n"
     ]
    }
   ],
   "source": [
    "# RNN Params\n",
    "input_size =  3 # 'a' 'b' 'c'\n",
    "num_classes = 1 # binary classification\n",
    "hidden_size = 50 # hyperparameter; chosen from sweep\n",
    "num_layers = 2 # hyperparameter; chosen from sweep\n",
    "\n",
    "\n",
    "criterion = nn.BCEWithLogitsLoss() # \"hyperparameter\" chosen from sweep\n",
    "learning_rate = 0.001 # hyperparameter; chosen from sweep\n",
    "\n",
    "# Train RNN\n",
    "rnn = RNN(input_size, hidden_size, num_layers, num_classes).to(device)\n",
    "optimizer = optim.Adam(rnn.parameters(), lr=learning_rate) # hyperparameter; chosen from sweep\n",
    "\n",
    "# Training loop RNN\n",
    "num_epochs = 30 # hyperparameter; chosen from sweep\n",
    "for epoch in range(num_epochs):\n",
    "    for data, labels, lengths in train_loader:\n",
    "        data, labels, lengths = data.to(device), labels.to(device), lengths.to('cpu')\n",
    "        \n",
    "        # Forward pass\n",
    "        outputs = rnn(data, lengths)\n",
    "        loss = criterion(outputs.squeeze(), labels.float()) # BCEWithLogitsLoss expects 1D input, output from RNN is 2D\n",
    "        \n",
    "        # Backward and optimize\n",
    "        optimizer.zero_grad()\n",
    "        loss.backward()\n",
    "        optimizer.step()\n",
    "        \n",
    "    print(f'Epoch [{epoch+1}/{num_epochs}], Loss: {loss.item():.4f}')\n",
    "print(\"Finished Training\")"
   ]
  },
  {
   "cell_type": "code",
   "execution_count": 45,
   "metadata": {},
   "outputs": [
    {
     "name": "stdout",
     "output_type": "stream",
     "text": [
      "Epoch [1/20], Loss: 0.5808\n",
      "Epoch [2/20], Loss: 0.6512\n",
      "Epoch [3/20], Loss: 0.6093\n",
      "Epoch [4/20], Loss: 0.5297\n",
      "Epoch [5/20], Loss: 0.4628\n",
      "Epoch [6/20], Loss: 0.6020\n",
      "Epoch [7/20], Loss: 0.5357\n",
      "Epoch [8/20], Loss: 0.2843\n",
      "Epoch [9/20], Loss: 0.3040\n",
      "Epoch [10/20], Loss: 0.2729\n",
      "Epoch [11/20], Loss: 0.3205\n",
      "Epoch [12/20], Loss: 0.3194\n",
      "Epoch [13/20], Loss: 0.3770\n",
      "Epoch [14/20], Loss: 0.3057\n",
      "Epoch [15/20], Loss: 0.2185\n",
      "Epoch [16/20], Loss: 0.1961\n",
      "Epoch [17/20], Loss: 0.1783\n",
      "Epoch [18/20], Loss: 0.1539\n",
      "Epoch [19/20], Loss: 0.1625\n",
      "Epoch [20/20], Loss: 0.1321\n",
      "Finished training\n"
     ]
    }
   ],
   "source": [
    "# LSTM Params\n",
    "input_size =  3 # 'a' 'b' 'c'\n",
    "num_classes = 1 # binary classification\n",
    "hidden_size = 20 # hyperparameter; chosen from sweep\n",
    "num_layers = 1 # hyperparameter; chosen from sweep\n",
    "\n",
    "\n",
    "criterion = nn.BCEWithLogitsLoss() # \"hyperparameter\" chosen from sweep\n",
    "learning_rate = 0.01 # hyperparameter; chosen from sweep\n",
    "\n",
    "# Train LSTM\n",
    "lstm = LSTM(input_size, hidden_size, num_layers, num_classes).to(device)\n",
    "optimizer = optim.Adam(lstm.parameters(), lr=learning_rate) # hyperparameter; chosen from sweep\n",
    "\n",
    "# Training loop LSTM\n",
    "num_epochs = 20 # hyperparameter; chosen from sweep\n",
    "\n",
    "for epoch in range(num_epochs):\n",
    "    for data, labels, lengths in train_loader:\n",
    "        data, labels, lengths = data.to(device), labels.to(device), lengths.to('cpu')\n",
    "\n",
    "        # Forward pass\n",
    "        outputs = lstm(data, lengths)\n",
    "        loss = criterion(outputs.squeeze(), labels.float())\n",
    "\n",
    "        # Backward and optimize\n",
    "        optimizer.zero_grad()\n",
    "        loss.backward()\n",
    "        optimizer.step()\n",
    "\n",
    "    print(f'Epoch [{epoch+1}/{num_epochs}], Loss: {loss.item():.4f}')\n",
    "print(\"Finished training\")"
   ]
  },
  {
   "cell_type": "markdown",
   "metadata": {},
   "source": [
    "## Report F1 Score (and accuracy)"
   ]
  },
  {
   "cell_type": "code",
   "execution_count": 46,
   "metadata": {},
   "outputs": [
    {
     "name": "stdout",
     "output_type": "stream",
     "text": [
      "RNN Test Accuracy: 97.33%\n",
      "RNN F1 Score: 0.96\n",
      "LSTM Test Accuracy: 93.17%\n",
      "LSTM F1 Score: 0.90\n"
     ]
    }
   ],
   "source": [
    "rnn_accuracy, rnn_f1 = report_evaluation(rnn, test_loader)\n",
    "lstm_accuracy, lstm_f1 = report_evaluation(lstm, test_loader)\n",
    "\n",
    "\n",
    "print(f'RNN Test Accuracy: {rnn_accuracy*100:.2f}%')\n",
    "print(f'RNN F1 Score: {rnn_f1:.2f}')\n",
    "print(f'LSTM Test Accuracy: {lstm_accuracy*100:.2f}%')\n",
    "print(f'LSTM F1 Score: {lstm_f1:.2f}')"
   ]
  },
  {
   "cell_type": "markdown",
   "metadata": {},
   "source": [
    "# Generalization and Plot"
   ]
  },
  {
   "cell_type": "code",
   "execution_count": 47,
   "metadata": {},
   "outputs": [
    {
     "name": "stdout",
     "output_type": "stream",
     "text": [
      "Number of sequences in the language: 253.0\n",
      "Number of sequences not in the language: 747.0\n"
     ]
    }
   ],
   "source": [
    "# Generate new test data of len 21 to 30 to see how well the models generalize\n",
    "longSeq_dataset, longSeq_sequences = get_dataset(1000, min_len=21, max_len=100, split=False)\n",
    "longSeq_loader = DataLoader(longSeq_dataset, batch_size=len(longSeq_dataset), shuffle=False)"
   ]
  },
  {
   "cell_type": "code",
   "execution_count": 41,
   "metadata": {},
   "outputs": [],
   "source": [
    "def length_to_scores(model, loader):\n",
    "    \"\"\"\n",
    "    Get the F1 score of a model for each sequence length in the test set\n",
    "    \"\"\"\n",
    "    model.eval()\n",
    "    length_to_true_pred = {}\n",
    "    with torch.no_grad():\n",
    "        for data, label, lengths in loader:\n",
    "            data, label, lengths = data.to(device), label.to(device), lengths.to('cpu')\n",
    "\n",
    "            # Get the model's predictions\n",
    "            output = model(data, lengths)\n",
    "            pred = torch.round(torch.sigmoid(output)) # Sigmoid to get probabilities, round to get binary predictions\n",
    "            \n",
    "            for i, length in enumerate(lengths):\n",
    "                if length.item() not in length_to_true_pred:\n",
    "                    length_to_true_pred[length.item()] = {'true': [], 'pred': []}\n",
    "\n",
    "                length_to_true_pred[length.item()]['true'].append(label[i].item())\n",
    "                length_to_true_pred[length.item()]['pred'].append(pred[i].item())\n",
    "\n",
    "    # sort list\n",
    "    length_to_true_pred = dict(sorted(length_to_true_pred.items()))\n",
    "        \n",
    "    # check if all predictions are the same for each length\n",
    "    for length in length_to_true_pred:\n",
    "        if length_to_true_pred[length]['pred'] == ([0*len(length_to_true_pred[length]['pred'])] or [1*len(length_to_true_pred[length]['pred'])]):\n",
    "            print(f\"All predictions are {length_to_true_pred[length]['pred'][0]} for sequences of length {length}\")\n",
    "\n",
    "    length_to_f1 = {}\n",
    "    length_to_accuracy = {}\n",
    "    for length, values in length_to_true_pred.items():\n",
    "        f1 = f1_score(values['true'], values['pred'], zero_division=1) # zero_division=1 to avoid division by 0\n",
    "        accuracy = accuracy_score(values['true'], values['pred'])\n",
    "        length_to_f1[length] = f1\n",
    "        length_to_accuracy[length] = accuracy\n",
    "\n",
    "\n",
    "    return length_to_f1 , length_to_accuracy\n"
   ]
  },
  {
   "cell_type": "code",
   "execution_count": 48,
   "metadata": {},
   "outputs": [
    {
     "name": "stdout",
     "output_type": "stream",
     "text": [
      "RNN Test Accuracy: 74.50%\n",
      "RNN F1 Score: 1.00\n",
      "LSTM Test Accuracy: 71.00%\n",
      "LSTM F1 Score: 1.00\n"
     ]
    }
   ],
   "source": [
    "rnn_accuracy, rnn_f1 = report_evaluation(rnn, longSeq_loader)\n",
    "lstm_accuracy, lstm_f1 = report_evaluation(lstm, longSeq_loader)\n",
    "\n",
    "\n",
    "print(f'RNN Test Accuracy: {rnn_accuracy*100:.2f}%')\n",
    "print(f'RNN F1 Score: {rnn_f1:.2f}')\n",
    "print(f'LSTM Test Accuracy: {lstm_accuracy*100:.2f}%')\n",
    "print(f'LSTM F1 Score: {lstm_f1:.2f}')"
   ]
  },
  {
   "cell_type": "code",
   "execution_count": 49,
   "metadata": {},
   "outputs": [],
   "source": [
    "# Plot F1 scores for each sequence length for RNN and LSTM bar plot side by side\n",
    "rnn_f1, rnn_accuracy = length_to_scores(rnn, longSeq_loader)\n",
    "lstm_f1, lstm_accuracy= length_to_scores(lstm, longSeq_loader)"
   ]
  },
  {
   "cell_type": "code",
   "execution_count": 55,
   "metadata": {},
   "outputs": [
    {
     "name": "stdout",
     "output_type": "stream",
     "text": [
      "{21: 0.36, 22: 1.0, 23: 1.0, 24: 0.4444444444444444, 25: 0.8333333333333334, 26: 1.0, 27: 0.6, 28: 1.0, 29: 1.0, 30: 0.6666666666666666, 31: 0.9090909090909091, 32: 1.0, 33: 0.47619047619047616, 34: 1.0, 35: 1.0, 36: 0.5714285714285714, 37: 1.0, 38: 1.0, 39: 0.3333333333333333, 40: 0.8571428571428571, 41: 0.9090909090909091, 42: 0.6, 43: 1.0, 44: 1.0, 45: 0.47058823529411764, 46: 0.625, 47: 1.0, 48: 0.7083333333333334, 49: 1.0, 50: 0.8571428571428571, 51: 0.4444444444444444, 52: 1.0, 53: 1.0, 54: 0.5294117647058824, 55: 0.7777777777777778, 56: 0.9285714285714286, 57: 0.42857142857142855, 58: 1.0, 59: 0.875, 60: 0.5357142857142857, 61: 1.0, 62: 1.0, 63: 0.5, 64: 1.0, 65: 0.9333333333333333, 66: 0.4, 67: 0.9, 68: 1.0, 69: 0.23076923076923078, 70: 0.8571428571428571, 71: 1.0, 72: 0.42105263157894735, 73: 1.0, 74: 0.875, 75: 0.3157894736842105, 76: 1.0, 77: 1.0, 78: 0.42105263157894735, 79: 0.8947368421052632, 80: 0.9090909090909091, 81: 0.42857142857142855, 82: 1.0, 83: 0.8333333333333334, 84: 0.5862068965517241, 85: 1.0, 86: 0.875, 87: 0.5, 88: 1.0, 89: 0.8888888888888888, 90: 0.5, 91: 1.0, 92: 1.0, 93: 0.4666666666666667, 94: 1.0, 95: 1.0, 96: 0.5333333333333333, 97: 1.0, 98: 1.0, 99: 0.5, 100: 1.0}\n"
     ]
    }
   ],
   "source": [
    "print(lstm_accuracy)"
   ]
  },
  {
   "cell_type": "code",
   "execution_count": 67,
   "metadata": {},
   "outputs": [
    {
     "data": {
      "image/png": "[encoded data removed]",
      "text/plain": [
       "<Figure size 1200x600 with 1 Axes>"
      ]
     },
     "metadata": {},
     "output_type": "display_data"
    }
   ],
   "source": [
    "\n",
    "# Plot Accuracy scores side by side using seaborn in w/ barplot same plot\n",
    "rnn_df = pd.DataFrame(list(rnn_accuracy.items()), columns=['Length', 'Accuracy'])\n",
    "rnn_df['Model'] = 'RNN'\n",
    "lstm_df = pd.DataFrame(list(lstm_accuracy.items()), columns=['Length', 'Accuracy'])\n",
    "lstm_df['Model'] = 'LSTM'\n",
    "df = pd.concat([rnn_df, lstm_df])\n",
    "\n",
    "plt.figure(figsize=(12, 6))\n",
    "sns.barplot(data=df, x='Length', y='Accuracy', hue='Model', alpha=0.9)\n",
    "plt.grid()\n",
    "# fix x-axis labels\n",
    "plt.xticks(rotation=45, size=7)\n",
    "plt.title('Accuracy by Sequence Length')\n",
    "plt.savefig('accuracy_by_length.png')\n",
    "plt.show()\n"
   ]
  }
 ],
 "metadata": {
  "kernelspec": {
   "display_name": "torch",
   "language": "python",
   "name": "python3"
  },
  "language_info": {
   "codemirror_mode": {
    "name": "ipython",
    "version": 3
   },
   "file_extension": ".py",
   "mimetype": "text/x-python",
   "name": "python",
   "nbconvert_exporter": "python",
   "pygments_lexer": "ipython3",
   "version": "3.11.9"
  }
 },
 "nbformat": 4,
 "nbformat_minor": 2
}
